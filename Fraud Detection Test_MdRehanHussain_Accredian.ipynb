{
 "cells": [
  {
   "cell_type": "markdown",
   "id": "552c27f6-1cbc-4fc0-bd8b-ce3add75f427",
   "metadata": {},
   "source": [
    "Prepared by: MD REHAN HUSSAIN\n",
    "Mail: therehanhussain@gmail.com\n",
    "Submission for Accredian Screening Test – Fraud Detection Case"
   ]
  },
  {
   "cell_type": "markdown",
   "id": "5e38adb6-a85a-4d21-a358-842d3a6c4905",
   "metadata": {},
   "source": [
    "1. Data Cleaning (Missing Values, Outliers, Multi-collinearity)\n",
    "First, I checked the dataset for any missing values using df.isnull().sum(). Luckily, there weren’t any missing entries, so no need to fill or drop anything.\n",
    "\n",
    "Since the amount variable was heavily skewed with some really large values, I applied a log transformation (log1p). This helped soften extreme outliers, letting the model interpret the data bette.\n",
    "\n",
    "For multi-collinearity, I looked at the correlation matrix and calculated Variance Inflation Factors (VIF). A few balance features showed some correlation, but nothing significant enough to remove at this point. I also dropped obvious non-informative columns like nameOrig and nameDest. Plus, one-hot encoding on the type feature helped make the data more model-friendly and reduced potential collinearity.riables.ipelines."
   ]
  },
  {
   "cell_type": "code",
   "execution_count": null,
   "id": "c16130af-f559-4687-a85a-665dbf2af186",
   "metadata": {},
   "outputs": [
    {
     "data": {
      "text/html": [
       "<div>\n",
       "<style scoped>\n",
       "    .dataframe tbody tr th:only-of-type {\n",
       "        vertical-align: middle;\n",
       "    }\n",
       "\n",
       "    .dataframe tbody tr th {\n",
       "        vertical-align: top;\n",
       "    }\n",
       "\n",
       "    .dataframe thead th {\n",
       "        text-align: right;\n",
       "    }\n",
       "</style>\n",
       "<table border=\"1\" class=\"dataframe\">\n",
       "  <thead>\n",
       "    <tr style=\"text-align: right;\">\n",
       "      <th></th>\n",
       "      <th>step</th>\n",
       "      <th>amount</th>\n",
       "      <th>oldbalanceOrg</th>\n",
       "      <th>newbalanceOrig</th>\n",
       "      <th>oldbalanceDest</th>\n",
       "      <th>newbalanceDest</th>\n",
       "      <th>isFraud</th>\n",
       "      <th>isFlaggedFraud</th>\n",
       "      <th>log_amount</th>\n",
       "      <th>type_CASH_OUT</th>\n",
       "      <th>type_DEBIT</th>\n",
       "      <th>type_PAYMENT</th>\n",
       "      <th>type_TRANSFER</th>\n",
       "    </tr>\n",
       "  </thead>\n",
       "  <tbody>\n",
       "    <tr>\n",
       "      <th>0</th>\n",
       "      <td>1</td>\n",
       "      <td>9839.64</td>\n",
       "      <td>170136.0</td>\n",
       "      <td>160296.36</td>\n",
       "      <td>0.0</td>\n",
       "      <td>0.0</td>\n",
       "      <td>0</td>\n",
       "      <td>0</td>\n",
       "      <td>9.194276</td>\n",
       "      <td>False</td>\n",
       "      <td>False</td>\n",
       "      <td>True</td>\n",
       "      <td>False</td>\n",
       "    </tr>\n",
       "    <tr>\n",
       "      <th>1</th>\n",
       "      <td>1</td>\n",
       "      <td>1864.28</td>\n",
       "      <td>21249.0</td>\n",
       "      <td>19384.72</td>\n",
       "      <td>0.0</td>\n",
       "      <td>0.0</td>\n",
       "      <td>0</td>\n",
       "      <td>0</td>\n",
       "      <td>7.531166</td>\n",
       "      <td>False</td>\n",
       "      <td>False</td>\n",
       "      <td>True</td>\n",
       "      <td>False</td>\n",
       "    </tr>\n",
       "    <tr>\n",
       "      <th>2</th>\n",
       "      <td>1</td>\n",
       "      <td>181.00</td>\n",
       "      <td>181.0</td>\n",
       "      <td>0.00</td>\n",
       "      <td>0.0</td>\n",
       "      <td>0.0</td>\n",
       "      <td>1</td>\n",
       "      <td>0</td>\n",
       "      <td>5.204007</td>\n",
       "      <td>False</td>\n",
       "      <td>False</td>\n",
       "      <td>False</td>\n",
       "      <td>True</td>\n",
       "    </tr>\n",
       "    <tr>\n",
       "      <th>3</th>\n",
       "      <td>1</td>\n",
       "      <td>181.00</td>\n",
       "      <td>181.0</td>\n",
       "      <td>0.00</td>\n",
       "      <td>21182.0</td>\n",
       "      <td>0.0</td>\n",
       "      <td>1</td>\n",
       "      <td>0</td>\n",
       "      <td>5.204007</td>\n",
       "      <td>True</td>\n",
       "      <td>False</td>\n",
       "      <td>False</td>\n",
       "      <td>False</td>\n",
       "    </tr>\n",
       "    <tr>\n",
       "      <th>4</th>\n",
       "      <td>1</td>\n",
       "      <td>11668.14</td>\n",
       "      <td>41554.0</td>\n",
       "      <td>29885.86</td>\n",
       "      <td>0.0</td>\n",
       "      <td>0.0</td>\n",
       "      <td>0</td>\n",
       "      <td>0</td>\n",
       "      <td>9.364703</td>\n",
       "      <td>False</td>\n",
       "      <td>False</td>\n",
       "      <td>True</td>\n",
       "      <td>False</td>\n",
       "    </tr>\n",
       "  </tbody>\n",
       "</table>\n",
       "</div>"
      ],
      "text/plain": [
       "   step    amount  oldbalanceOrg  newbalanceOrig  oldbalanceDest  \\\n",
       "0     1   9839.64       170136.0       160296.36             0.0   \n",
       "1     1   1864.28        21249.0        19384.72             0.0   \n",
       "2     1    181.00          181.0            0.00             0.0   \n",
       "3     1    181.00          181.0            0.00         21182.0   \n",
       "4     1  11668.14        41554.0        29885.86             0.0   \n",
       "\n",
       "   newbalanceDest  isFraud  isFlaggedFraud  log_amount  type_CASH_OUT  \\\n",
       "0             0.0        0               0    9.194276          False   \n",
       "1             0.0        0               0    7.531166          False   \n",
       "2             0.0        1               0    5.204007          False   \n",
       "3             0.0        1               0    5.204007           True   \n",
       "4             0.0        0               0    9.364703          False   \n",
       "\n",
       "   type_DEBIT  type_PAYMENT  type_TRANSFER  \n",
       "0       False          True          False  \n",
       "1       False          True          False  \n",
       "2       False         False           True  \n",
       "3       False         False          False  \n",
       "4       False          True          False  "
      ]
     },
     "execution_count": 18,
     "metadata": {},
     "output_type": "execute_result"
    }
   ],
   "source": [
    "import pandas as pd\n",
    "import numpy as np\n",
    "\n",
    "# Load dataset\n",
    "df = pd.read_csv(\"Fraud.csv\")\n",
    "\n",
    "# Log transform 'amount'\n",
    "df[\"log_amount\"] = np.log1p(df[\"amount\"])\n",
    "\n",
    "# Drop non-informative columns\n",
    "df = df.drop([\"nameOrig\", \"nameDest\"], axis=1)\n",
    "\n",
    "# One-hot encode 'type'\n",
    "df = pd.get_dummies(df, columns=[\"type\"], drop_first=True)\n",
    "\n",
    "df.head()\n"
   ]
  },
  {
   "cell_type": "markdown",
   "id": "db0bebe6-dff3-4e26-8c53-97dc837cdec1",
   "metadata": {},
   "source": [
    "2. Fraud Detection Model\n",
    "I chose to use XGBoost as the classifier because it’s fast, handles huge datasets well, and works nicely with imbalanced data — which is crucial since fraud cases are rare.\n",
    "\n",
    "To address imbalance, I set scale_pos_weight to 100, meaning the model really pays attention to the scarce fraud label.\n",
    "\n",
    "To train, I split the data 70-30 with stratified sampling so that fraud cases stayed proportionally represented. The evaluation metric was log-loss, which fits well for binary classification problems like this one.lassification.d ratio\n",
    "lection Process"
   ]
  },
  {
   "cell_type": "code",
   "execution_count": null,
   "id": "ca3aa801-5ac4-4800-a203-9cf4ebe050b0",
   "metadata": {},
   "outputs": [
    {
     "name": "stdout",
     "output_type": "stream",
     "text": [
      "Classification Report:\n",
      "               precision    recall  f1-score   support\n",
      "\n",
      "           0       1.00      1.00      1.00   1906322\n",
      "           1       0.61      0.97      0.75      2464\n",
      "\n",
      "    accuracy                           1.00   1908786\n",
      "   macro avg       0.80      0.98      0.87   1908786\n",
      "weighted avg       1.00      1.00      1.00   1908786\n",
      "\n",
      "Confusion Matrix:\n",
      " [[1904793    1529]\n",
      " [     76    2388]]\n",
      "ROC-AUC Score: 0.9841768880448468\n",
      "PR-AUC Score: 0.7894229512856846\n"
     ]
    }
   ],
   "source": [
    "from xgboost import XGBClassifier\n",
    "from sklearn.model_selection import train_test_split\n",
    "from sklearn.metrics import classification_report, roc_auc_score, confusion_matrix, precision_recall_curve, auc\n",
    "\n",
    "# Feature-target split\n",
    "X = df.drop([\"isFraud\", \"isFlaggedFraud\"], axis=1)\n",
    "y = df[\"isFraud\"]\n",
    "\n",
    "# Train-test split\n",
    "X_train, X_test, y_train, y_test = train_test_split(X, y, stratify=y, test_size=0.3, random_state=42)\n",
    "\n",
    "# Train XGBoost with imbalance control\n",
    "model = XGBClassifier(scale_pos_weight=100, eval_metric='logloss')\n",
    "model.fit(X_train, y_train)\n",
    "\n",
    "# Predict\n",
    "y_pred = model.predict(X_test)\n",
    "\n",
    "# Evaluation\n",
    "print(\"Classification Report:\\n\", classification_report(y_test, y_pred))\n",
    "print(\"Confusion Matrix:\\n\", confusion_matrix(y_test, y_pred))\n",
    "print(\"ROC-AUC Score:\", roc_auc_score(y_test, y_pred))\n",
    "\n",
    "# PR-AUC\n",
    "precision, recall, _ = precision_recall_curve(y_test, y_pred)\n",
    "print(\"PR-AUC Score:\", auc(recall, precision))\n",
    "           \n"
   ]
  },
  {
   "cell_type": "markdown",
   "id": "a633ef79-a891-4e13-87b3-26eb2e3bf2a7",
   "metadata": {},
   "source": [
    "3. Variable Selection\n",
    "I included all key numeric features related to transactions: \n",
    "the raw amount, balances before and after the transaction from both origin and destination accounts, plus the one-hot encoded transaction types like TRANSFER and CASH_OUT.\n",
    "Importantly, I left out any identifier columns like nameOrig and nameDest since they don’t help the model generalize and could lead to data leakage.\n",
    "My choices were guided by understanding what typically signals fraud — \n",
    "how balances shift and what kinds of transactions tend to be risky — and later confirmed by looking at XGBoost’s feature importance to see which variables mattered most."
   ]
  },
  {
   "cell_type": "code",
   "execution_count": null,
   "id": "5be3094e-2b6c-4340-bd70-4bf3882a346c",
   "metadata": {},
   "outputs": [
    {
     "data": {
      "image/png": "[encoded data removed]",
      "text/plain": [
       "<Figure size 1000x600 with 1 Axes>"
      ]
     },
     "metadata": {},
     "output_type": "display_data"
    }
   ],
   "source": [
    "import matplotlib.pyplot as plt\n",
    "\n",
    "# Feature importance\n",
    "importances = model.feature_importances_\n",
    "features = X.columns\n",
    "\n",
    "# Plot\n",
    "plt.figure(figsize=(10, 6))\n",
    "plt.barh(features, importances)\n",
    "plt.title(\"Feature Importance\")\n",
    "plt.xlabel(\"Importance\")\n",
    "plt.ylabel(\"Features\")\n",
    "plt.show()\n"
   ]
  },
  {
   "cell_type": "markdown",
   "id": "449f52db-da4e-41c5-94e7-1ca4ea61fb95",
   "metadata": {},
   "source": [
    "4. Model Performance\n",
    "The model performed well, especially on recall — catching as many fraudulent cases as possible — which is critical in fraud detection.\n",
    "We got an ROC-AUC around 0.98, indicating the model can cleanly separate fraud from legitimate transactions. \n",
    "The precision-recall curve also looked good, which is important given the class imbalance.\n",
    "I also generated some plots like feature importance and confusion matrices to visualize results and understand where the model might be slipping up."
   ]
  },
  {
   "cell_type": "markdown",
   "id": "8368fa7b-e3c0-4415-b429-78f2ac9823d2",
   "metadata": {},
   "source": [
    "5. Key Predictors of Fraud\n",
    "The variables that stood out were:\n",
    "amount: Fraud often involves large or unusual transaction amounts.\n",
    "Transaction types TRANSFER and CASH_OUT were far more common in fraud cases.\n",
    "The balances before and after the transaction (oldbalanceOrg and newbalanceOrig) showed suspicious activity where the origin account sometimes drops to zero, a classic fraud signature."
   ]
  },
  {
   "cell_type": "markdown",
   "id": "5ac8ea73-eb65-4411-b83a-c1a3004ce211",
   "metadata": {},
   "source": [
    "6. Do These Factors Make Sense?\n",
    "Yes, these factors are consistent with known fraud patterns.\n",
    "Fraudsters tend to move money quickly through transfers and cash-outs to hide the trail.\n",
    "Large, sudden drops in account balances are a red flag. \n",
    "Also, ‘payment’ or ‘debit’ type transactions rarely show fraud patterns, which aligns with common industry observations. \n",
    "The data and the model confirm what we’d expect."
   ]
  },
  {
   "cell_type": "markdown",
   "id": "cc1b66c8-9bf3-4127-a35c-025363361927",
   "metadata": {},
   "source": [
    "7. Prevention Measures During Infrastructure Updates\n",
    "To strengthen the system, I’d suggest:\n",
    "Setting up rule-based alerts for transactions over a certain threshold, like ₹200,000.\n",
    "Enforcing two-factor authentication (2FA) for high-risk transactions.\n",
    "Adding geo-location and device anomaly detection to flag unusual access patterns.\n",
    "Running the ML fraud detection model in real-time to automatically score transactions as they come in.\n",
    "Keeping detailed logs for auditing and accountability.\n",
    "Sending prompt notifications to customers when suspicious activity is detected."
   ]
  },
  {
   "cell_type": "markdown",
   "id": "4dd582d1-b40a-4a65-b19d-da6a14dfad16",
   "metadata": {},
   "source": [
    "8. Measuring the Effectiveness of These Measures\n",
    "We’d track a few key things post-implementation:\n",
    "Whether the actual number of fraud cases goes down.\n",
    "False positive rates on flagged transactions — too many false alerts annoy users and waste resources.\n",
    "Model performance metrics, like recall and ROC-AUC, should stay strong or improve when tested on new incoming data.\n",
    "I’d also recommend regular communication between fraud analysts and the data science team to keep refining the model, as fraudsters constantly change tactics.\n",
    "Finally, running A/B tests where we roll out changes to part of the user base lets us objectively see if these measures truly make a difference."
   ]
  }
 ],
 "metadata": {
  "kernelspec": {
   "display_name": "Python 3 (ipykernel)",
   "language": "python",
   "name": "python3"
  },
  "language_info": {
   "codemirror_mode": {
    "name": "ipython",
    "version": 3
   },
   "file_extension": ".py",
   "mimetype": "text/x-python",
   "name": "python",
   "nbconvert_exporter": "python",
   "pygments_lexer": "ipython3",
   "version": "3.11.7"
  }
 },
 "nbformat": 4,
 "nbformat_minor": 5
}
